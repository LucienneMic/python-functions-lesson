{
 "cells": [
  {
   "cell_type": "markdown",
   "metadata": {},
   "source": [
    "# Introduction to Python Functions\n",
    "\n",
    "Welcome! In this short lesson, you’ll learn how to **define and use functions** in Python.\n",
    "\n",
    "By the end of this notebook, you will be able to:\n",
    "- Define a function using `def`\n",
    "- Pass parameters to a function\n",
    "- Return values from a function\n",
    "\n",
    "---\n",
    "After working through this lesson, open **`exercises.py`** and try the practice problems. Then run `pytest` to check your answers!"
   ]
  },
  {
   "cell_type": "markdown",
   "metadata": {},
   "source": [
    "## 1. Why Functions?\n",
    "Functions let us **organize code into reusable blocks**. Instead of repeating yourself, you can write code once and reuse it whenever needed."
   ]
  },
  {
   "cell_type": "code",
   "execution_count": null,
   "metadata": {},
   "outputs": [],
   "source": [
    "# Example: Without a function\n",
    "print(\"Hello, Alice!\")\n",
    "print(\"Hello, Bob!\")\n",
    "\n",
    "# If we need to greet 100 people, this quickly becomes messy!"
   ]
  },
  {
   "cell_type": "code",
   "execution_count": null,
   "metadata": {},
   "outputs": [],
   "source": [
    "# Example: With a function\n",
    "def greet(name):\n",
    "    return f\"Hello, {name}!\"\n",
    "\n",
    "print(greet(\"Alice\"))\n",
    "print(greet(\"Bob\"))"
   ]
  },
  {
   "cell_type": "markdown",
   "metadata": {},
   "source": [
    "Much cleaner! Functions reduce duplication and make your code easier to maintain."
   ]
  },
  {
   "cell_type": "markdown",
   "metadata": {},
   "source": [
    "## 2. Functions with Parameters\n",
    "Functions can take inputs (called **parameters**) and return outputs.\n",
    "\n",
    "Let’s write a simple function that adds two numbers together."
   ]
  },
  {
   "cell_type": "code",
   "execution_count": null,
   "metadata": {},
   "outputs": [],
   "source": [
    "def add_numbers(a, b):\n",
    "    return a + b\n",
    "\n",
    "print(add_numbers(2, 3))  # Expected: 5\n",
    "print(add_numbers(10, -4))  # Expected: 6"
   ]
  },
  {
   "cell_type": "markdown",
   "metadata": {},
   "source": [
    "## 3. A Real-World Example\n",
    "Let’s use a function to calculate the area of a rectangle."
   ]
  },
  {
   "cell_type": "code",
   "execution_count": null,
   "metadata": {},
   "outputs": [],
   "source": [
    "def calculate_area(width, height):\n",
    "    return width * height\n",
    "\n",
    "print(calculate_area(3, 4))   # Expected: 12\n",
    "print(calculate_area(5, 5))   # Expected: 25"
   ]
  },
  {
   "cell_type": "markdown",
   "metadata": {},
   "source": [
    "### Key Takeaways\n",
    "- Use `def` to define a function\n",
    "- Functions can take **parameters** (inputs)\n",
    "- Functions can **return values** (outputs)\n",
    "\n",
    "---\n",
    "Next: Open **`exercises.py`** and complete the TODOs.\n",
    "Then run `pytest` in your terminal to check your work against the auto-grader!"
   ]
  }
 ],
 "metadata": {
  "kernelspec": {
   "display_name": "Python 3",
   "language": "python",
   "name": "python3"
  },
  "language_info": {
   "name": "python",
   "version": "3.9"
  }
 },
 "nbformat": 4,
 "nbformat_minor": 5
}

